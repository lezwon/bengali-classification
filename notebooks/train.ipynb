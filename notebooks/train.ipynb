{
 "cells": [
  {
   "cell_type": "code",
   "execution_count": 1,
   "metadata": {},
   "outputs": [],
   "source": [
    "%%capture\n",
    "%run bengali_dataset.ipynb\n",
    "%run models.ipynb"
   ]
  },
  {
   "cell_type": "code",
   "execution_count": 2,
   "metadata": {},
   "outputs": [],
   "source": [
    "import boto3"
   ]
  },
  {
   "cell_type": "code",
   "execution_count": 3,
   "metadata": {},
   "outputs": [],
   "source": [
    "import os, ast\n",
    "import logging\n",
    "# from tqdm.notebook import tqdm\n",
    "from tqdm import tqdm"
   ]
  },
  {
   "cell_type": "code",
   "execution_count": 4,
   "metadata": {},
   "outputs": [],
   "source": [
    "# DEVICE = \"cuda\"\n",
    "# TRAINING_FOLDS_CSV = os.environ.get(\"TRAINING_FOLDS_CSV\")\n",
    "# IMG_HEIGHT  = int(os.environ.get(\"IMG_HEIGHT\"))\n",
    "# IMG_WIDTH = int(os.environ.get(\"IMG_WIDTH\"))\n",
    "# EPOCHS = int(os.environ.get(\"EPOCHS\"))\n",
    "\n",
    "# TRAIN_BATCH_SIZE = int(os.environ.get(\"TRAIN_BATCH_SIZE\"))\n",
    "# TEST_BATCH_SIZE = int(os.environ.get(\"TEST_BATCH_SIZE\"))\n",
    "\n",
    "# MODEL_MEAN = ast.literal_eval(os.environ.get(\"MODEL_MEAN\"))\n",
    "# MODEL_STD = ast.literal_eval(os.environ.get(\"MODEL_STD\"))\n",
    "\n",
    "# TRAINING_FOLDS = ast.literal_eval(os.environ.get(\"TRAINING_FOLDS\"))\n",
    "# VALIDATION_FOLDS = ast.literal_eval(os.environ.get(\"VALIDATION_FOLDS\"))\n",
    "# BASE_MODEL = int(os.environ.get(\"BASE_MODEL\"))\n"
   ]
  },
  {
   "cell_type": "code",
   "execution_count": 5,
   "metadata": {},
   "outputs": [],
   "source": [
    "for handler in logging.root.handlers[:]:\n",
    "    logging.root.removeHandler(handler)"
   ]
  },
  {
   "cell_type": "code",
   "execution_count": 6,
   "metadata": {},
   "outputs": [],
   "source": [
    "logging.basicConfig(filename='train.log',level=logging.INFO)"
   ]
  },
  {
   "cell_type": "code",
   "execution_count": 7,
   "metadata": {},
   "outputs": [],
   "source": [
    "client = boto3.client('sagemaker')"
   ]
  },
  {
   "cell_type": "code",
   "execution_count": 8,
   "metadata": {},
   "outputs": [],
   "source": [
    "instance_name = 'xview'"
   ]
  },
  {
   "cell_type": "code",
   "execution_count": 9,
   "metadata": {},
   "outputs": [],
   "source": [
    "DEVICE = \"cuda\"\n",
    "CUDA_VISIBILE_DEVICES=0\n",
    "IMG_HEIGHT=137\n",
    "IMG_WIDTH=236\n",
    "EPOCHS=10\n",
    "TRAIN_BATCH_SIZE=256\n",
    "TEST_BATCH_SIZE=64\n",
    "MODEL_MEAN=(0.485, 0.456, 0.406)\n",
    "MODEL_STD=(0.229, 0.224, 0.225)\n",
    "TRAINING_FOLDS=(0, 1, 2, 3)\n",
    "VALIDATION_FOLDS=(4, )\n",
    "BASE_MODEL='bengali'"
   ]
  },
  {
   "cell_type": "code",
   "execution_count": 10,
   "metadata": {},
   "outputs": [],
   "source": [
    "\n",
    "def loss_fn(outputs, targets):\n",
    "    o1, o2, o3 = outputs\n",
    "    t1, t2, t3 = targets\n",
    "\n",
    "    l1 = nn.CrossEntropyLoss()(o1, t1)\n",
    "    l2 = nn.CrossEntropyLoss()(o2, t2)\n",
    "    l3 = nn.CrossEntropyLoss()(o3, t3)\n",
    "    return (l1 + l2 + l3)"
   ]
  },
  {
   "cell_type": "code",
   "execution_count": 11,
   "metadata": {},
   "outputs": [],
   "source": [
    "def train(dataset, data_loader, model, optimizer):\n",
    "     model.train()\n",
    "\n",
    "     for bi, data in tqdm(enumerate(data_loader), total=int(len(dataset) / data_loader.batch_size)):\n",
    "        logging.info(f'TRAINING BATCH: {bi}/ {int(len(dataset) / data_loader.batch_size)}')\n",
    "        image = data['image']\n",
    "        grapheme_root = data['grapheme_root']\n",
    "        vowel_diacritic = data['vowel_diacritic']\n",
    "        consonant_diacritic = data['consonant_diacritic']\n",
    "\n",
    "        image = image.to(DEVICE, dtype=torch.float)\n",
    "        grapheme_root = grapheme_root.to(DEVICE, dtype=torch.long)\n",
    "        vowel_diacritic = vowel_diacritic.to(DEVICE, dtype=torch.long)\n",
    "        consonant_diacritic = consonant_diacritic.to(DEVICE, dtype=torch.long)\n",
    "\n",
    "        optimizer.zero_grad()\n",
    "\n",
    "        outputs = model(image)\n",
    "        targets = (grapheme_root, vowel_diacritic, consonant_diacritic)\n",
    "        loss = loss_fn(outputs, targets)\n",
    "\n",
    "        loss.backward()\n",
    "        optimizer.step()"
   ]
  },
  {
   "cell_type": "code",
   "execution_count": 12,
   "metadata": {},
   "outputs": [],
   "source": [
    "def evaluate(dataset, data_loader, model):\n",
    "    model.eval()\n",
    "    \n",
    "    final_loss = 0\n",
    "    with torch.no_grad():\n",
    "        for bi, data in tqdm(enumerate(data_loader), total=int(len(dataset) / data_loader.batch_size)):\n",
    "            logging.info(f'EVALUATING BATCH: {bi}/ {int(len(dataset) / data_loader.batch_size)}')\n",
    "            image = data['image']\n",
    "            grapheme_root = data['grapheme_root']\n",
    "            vowel_diacritic = data['vowel_diacritic']\n",
    "            consonant_diacritic = data['consonant_diacritic']\n",
    "\n",
    "            image = image.to(DEVICE, dtype=torch.float)\n",
    "            grapheme_root = grapheme_root.to(DEVICE, dtype=torch.long)\n",
    "            vowel_diacritic = vowel_diacritic.to(DEVICE, dtype=torch.long)\n",
    "            consonant_diacritic = consonant_diacritic.to(DEVICE, dtype=torch.long)\n",
    "\n",
    "            outputs = model(image)\n",
    "            targets = (grapheme_root, vowel_diacritic, consonant_diacritic)\n",
    "            loss = loss_fn(outputs, targets)\n",
    "            final_loss += loss\n",
    "\n",
    "    return final_loss / bi"
   ]
  },
  {
   "cell_type": "code",
   "execution_count": 13,
   "metadata": {},
   "outputs": [],
   "source": [
    "torch.cuda.empty_cache()"
   ]
  },
  {
   "cell_type": "code",
   "execution_count": 14,
   "metadata": {},
   "outputs": [],
   "source": [
    "model = Resnet34(pretrained=True)"
   ]
  },
  {
   "cell_type": "code",
   "execution_count": 18,
   "metadata": {},
   "outputs": [
    {
     "data": {
      "text/plain": [
       "<All keys matched successfully>"
      ]
     },
     "execution_count": 18,
     "metadata": {},
     "output_type": "execute_result"
    }
   ],
   "source": [
    "model.load_state_dict(torch.load('bengali_fold_4.bin'))"
   ]
  },
  {
   "cell_type": "code",
   "execution_count": 16,
   "metadata": {},
   "outputs": [],
   "source": [
    "# gen = model.children()\n",
    "# resnet_model = next(gen)\n",
    "# resnet_children = resnet_model.children()\n",
    "\n",
    "# for i, child in enumerate(resnet_children):\n",
    "#     if i < 8:\n",
    "#         for param in child.parameters():\n",
    "#             param.requires_grad = False"
   ]
  },
  {
   "cell_type": "code",
   "execution_count": null,
   "metadata": {
    "scrolled": true
   },
   "outputs": [
    {
     "name": "stderr",
     "output_type": "stream",
     "text": [
      "628it [24:08,  2.31s/it]                         \n",
      "628it [01:52,  5.56it/s]                         \n"
     ]
    },
    {
     "name": "stdout",
     "output_type": "stream",
     "text": [
      "tensor(0.3571, device='cuda:0')\n"
     ]
    },
    {
     "name": "stderr",
     "output_type": "stream",
     "text": [
      " 39%|███▉      | 247/627 [09:30<14:36,  2.31s/it]"
     ]
    }
   ],
   "source": [
    "\n",
    "# model = Net()\n",
    "model.to(DEVICE)\n",
    "\n",
    "train_dataset = BengaliDataset(\n",
    "    folds=TRAINING_FOLDS,\n",
    "    img_height=IMG_HEIGHT,\n",
    "    img_width=IMG_WIDTH,\n",
    "    mean=MODEL_MEAN,\n",
    "    std=MODEL_STD\n",
    ")\n",
    "\n",
    "train_loader = torch.utils.data.DataLoader(\n",
    "    dataset=train_dataset,\n",
    "    batch_size=TRAIN_BATCH_SIZE,\n",
    "    shuffle=True,\n",
    "    num_workers=4\n",
    ")\n",
    "\n",
    "validation_dataset = BengaliDataset(\n",
    "    folds=VALIDATION_FOLDS,\n",
    "    img_height=IMG_HEIGHT,\n",
    "    img_width=IMG_WIDTH,\n",
    "    mean=MODEL_MEAN,\n",
    "    std=MODEL_STD\n",
    ")\n",
    "\n",
    "validation_loader = torch.utils.data.DataLoader(\n",
    "    dataset=validation_dataset,\n",
    "    batch_size=TEST_BATCH_SIZE,\n",
    "    shuffle=True,\n",
    "    num_workers=4\n",
    ")\n",
    "\n",
    "optimizer = torch.optim.Adam(model.parameters(), lr=1e-4)\n",
    "scheduler = torch.optim.lr_scheduler.ReduceLROnPlateau(optimizer, mode='max', patience=5, factor=0.3, verbose=True)\n",
    "\n",
    "if torch.cuda.device_count() > 1:\n",
    "    model = nn.DataParallel()\n",
    "\n",
    "for epoch in range(EPOCHS):\n",
    "    train(train_dataset, train_loader, model, optimizer)\n",
    "    val_score = evaluate(validation_dataset, validation_loader, model)\n",
    "    print(val_score)\n",
    "    scheduler.step(val_score)\n",
    "    logging.info(f'EPOCH: {epoch}, VAL_SCORE:{val_score}')\n",
    "    torch.save(model.state_dict(), f\"{BASE_MODEL}_fold_{VALIDATION_FOLDS[0]}.bin\")\n",
    "    \n",
    "client.stop_notebook_instance(NotebookInstanceName = instance_name)"
   ]
  },
  {
   "cell_type": "code",
   "execution_count": null,
   "metadata": {},
   "outputs": [],
   "source": []
  }
 ],
 "metadata": {
  "kernelspec": {
   "display_name": "conda_pytorch_p36",
   "language": "python",
   "name": "conda_pytorch_p36"
  },
  "language_info": {
   "codemirror_mode": {
    "name": "ipython",
    "version": 3
   },
   "file_extension": ".py",
   "mimetype": "text/x-python",
   "name": "python",
   "nbconvert_exporter": "python",
   "pygments_lexer": "ipython3",
   "version": "3.6.5"
  }
 },
 "nbformat": 4,
 "nbformat_minor": 4
}
