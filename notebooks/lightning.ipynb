{
 "cells": [
  {
   "cell_type": "code",
   "execution_count": 8,
   "metadata": {},
   "outputs": [],
   "source": [
    "%%capture\n",
    "!pip install -U scikit-image"
   ]
  },
  {
   "cell_type": "code",
   "execution_count": 9,
   "metadata": {},
   "outputs": [],
   "source": [
    "%%capture\n",
    "%run bengali_dataset.ipynb\n",
    "# %run models.ipynb"
   ]
  },
  {
   "cell_type": "code",
   "execution_count": 10,
   "metadata": {
    "scrolled": true
   },
   "outputs": [],
   "source": [
    "%%capture\n",
    "!pip install pytorch-lightning pretrainedmodels test-tube"
   ]
  },
  {
   "cell_type": "code",
   "execution_count": 11,
   "metadata": {},
   "outputs": [],
   "source": [
    "import boto3"
   ]
  },
  {
   "cell_type": "code",
   "execution_count": 12,
   "metadata": {},
   "outputs": [
    {
     "ename": "ImportError",
     "evalue": "cannot import name 'CometLogger'",
     "output_type": "error",
     "traceback": [
      "\u001b[0;31m---------------------------------------------------------------------------\u001b[0m",
      "\u001b[0;31mImportError\u001b[0m                               Traceback (most recent call last)",
      "\u001b[0;32m<ipython-input-12-f872435d99bb>\u001b[0m in \u001b[0;36m<module>\u001b[0;34m()\u001b[0m\n\u001b[1;32m      8\u001b[0m \u001b[0;32mfrom\u001b[0m \u001b[0mtqdm\u001b[0m\u001b[0;34m.\u001b[0m\u001b[0mnotebook\u001b[0m \u001b[0;32mimport\u001b[0m \u001b[0mtqdm\u001b[0m\u001b[0;34m\u001b[0m\u001b[0m\n\u001b[1;32m      9\u001b[0m \u001b[0;31m# from tqdm import tqdm\u001b[0m\u001b[0;34m\u001b[0m\u001b[0;34m\u001b[0m\u001b[0m\n\u001b[0;32m---> 10\u001b[0;31m \u001b[0;32mfrom\u001b[0m \u001b[0mpytorch_lightning\u001b[0m\u001b[0;34m.\u001b[0m\u001b[0mlogging\u001b[0m \u001b[0;32mimport\u001b[0m \u001b[0mCometLogger\u001b[0m\u001b[0;34m\u001b[0m\u001b[0m\n\u001b[0m",
      "\u001b[0;31mImportError\u001b[0m: cannot import name 'CometLogger'"
     ]
    }
   ],
   "source": [
    "import pretrainedmodels\n",
    "import logging\n",
    "import torch.nn.functional as F\n",
    "from torch import nn\n",
    "import torch\n",
    "import pytorch_lightning as pl\n",
    "from torch.utils.data import DataLoader\n",
    "from tqdm.notebook import tqdm\n",
    "# from tqdm import tqdm\n",
    "from pytorch_lightning.logging import CometLogger"
   ]
  },
  {
   "cell_type": "code",
   "execution_count": null,
   "metadata": {},
   "outputs": [],
   "source": [
    "client = boto3.client('sagemaker')\n",
    "instance_name = 'xview'"
   ]
  },
  {
   "cell_type": "code",
   "execution_count": null,
   "metadata": {},
   "outputs": [],
   "source": [
    "class ShutdownInstanceCallback(pl.Callback):\n",
    "    def on_train_end(self, trainer, pl_module):\n",
    "        print('Shutting down instance')\n",
    "        client.stop_notebook_instance(NotebookInstanceName = instance_name)"
   ]
  },
  {
   "cell_type": "code",
   "execution_count": null,
   "metadata": {},
   "outputs": [],
   "source": [
    "\n",
    "class Resnet34(pl.LightningModule):\n",
    "    def __init__(self, pretrained=True, **kwargs):\n",
    "        super(Resnet34, self).__init__()\n",
    "        self.__dict__.update(kwargs)\n",
    "        \n",
    "        self.setup_logging()\n",
    "\n",
    "        model_name = 'resnet34'\n",
    "        if pretrained is True:\n",
    "            self.model = pretrainedmodels.__dict__[model_name](pretrained='imagenet')\n",
    "        else:\n",
    "            self.model = pretrainedmodels.__dict__[model_name](pretrained=None)\n",
    "            \n",
    "        self.l0 = nn.Linear(512, 168)\n",
    "        self.l1 = nn.Linear(512, 11)\n",
    "        self.l2 = nn.Linear(512, 7)\n",
    "        \n",
    "    def setup_logging(self):\n",
    "        for handler in logging.root.handlers[:]:\n",
    "            logging.root.removeHandler(handler)\n",
    "        logging.basicConfig(filename='train.log',level=logging.INFO)\n",
    "        \n",
    "    def forward(self, x):\n",
    "        bs, c, h, w = x.shape\n",
    "        x = self.model.features(x)\n",
    "        x = F.adaptive_avg_pool2d(x, 1)\n",
    "        x = x.reshape(bs, -1)\n",
    "        l0 = self.l0(x)\n",
    "        l1 = self.l1(x)\n",
    "        l2 = self.l2(x)\n",
    "        return l0, l1, l2\n",
    "\n",
    "\n",
    "    def prepare_data(self):\n",
    "        self.train_dataset = BengaliDataset(\n",
    "            folds=self.TRAINING_FOLDS,\n",
    "            img_height=self.IMG_HEIGHT,\n",
    "            img_width=self.IMG_WIDTH,\n",
    "            mean=self.MODEL_MEAN,\n",
    "            std=self.MODEL_STD\n",
    "        )\n",
    "\n",
    "        self.validation_dataset = BengaliDataset(\n",
    "            folds=self.VALIDATION_FOLDS,\n",
    "            img_height=self.IMG_HEIGHT,\n",
    "            img_width=self.IMG_WIDTH,\n",
    "            mean=self.MODEL_MEAN,\n",
    "            std=self.MODEL_STD\n",
    "        )\n",
    "\n",
    "    def configure_optimizers(self):\n",
    "        optimizer = torch.optim.Adam(model.parameters(), lr=1e-4)\n",
    "        scheduler = torch.optim.lr_scheduler.ReduceLROnPlateau(optimizer, mode='max', patience=5, factor=0.3, verbose=True)\n",
    "        return [optimizer], [scheduler]\n",
    "    \n",
    "    \n",
    "    def loss_fn(self, outputs, targets):\n",
    "        o1, o2, o3 = outputs\n",
    "        t1, t2, t3 = targets\n",
    "\n",
    "        l1 = nn.CrossEntropyLoss()(o1, t1)\n",
    "        l2 = nn.CrossEntropyLoss()(o2, t2)\n",
    "        l3 = nn.CrossEntropyLoss()(o3, t3)\n",
    "        return (l1 + l2 + l3) / 3\n",
    "\n",
    "    def train_dataloader(self):\n",
    "        return DataLoader(\n",
    "            dataset=self.train_dataset,\n",
    "            batch_size=self.TRAIN_BATCH_SIZE,\n",
    "            shuffle=True,\n",
    "            num_workers=4\n",
    "        )\n",
    "\n",
    "    def training_step(self, batch, batch_idx):\n",
    "        logging.info(f'TRAINING BATCH: {batch_idx}')\n",
    "        image = batch['image']\n",
    "        grapheme_root = batch['grapheme_root']\n",
    "        vowel_diacritic = batch['vowel_diacritic']\n",
    "        consonant_diacritic = batch['consonant_diacritic']\n",
    "\n",
    "        outputs = self.forward(image)\n",
    "        targets = (grapheme_root, vowel_diacritic, consonant_diacritic)\n",
    "        loss = self.loss_fn(outputs, targets)\n",
    "        logs = {'loss': loss}\n",
    "        return {'loss': loss, 'log': logs}\n",
    "\n",
    "    def val_dataloader(self):\n",
    "        return DataLoader(\n",
    "            dataset=self.validation_dataset,\n",
    "            batch_size=self.TEST_BATCH_SIZE,\n",
    "            shuffle=True,\n",
    "            num_workers=4\n",
    "        )\n",
    "\n",
    "    def validation_step(self, batch, batch_idx):\n",
    "        logging.info(f'VALIDATION BATCH: {batch_idx}')\n",
    "        image = batch['image']\n",
    "        grapheme_root = batch['grapheme_root']\n",
    "        vowel_diacritic = batch['vowel_diacritic']\n",
    "        consonant_diacritic = batch['consonant_diacritic']\n",
    "\n",
    "        outputs = self.forward(image)\n",
    "        targets = (grapheme_root, vowel_diacritic, consonant_diacritic)\n",
    "        \n",
    "        loss = self.loss_fn(outputs, targets)\n",
    "        logs = {'loss': loss}\n",
    "        return {'val_loss': loss, 'log': logs}\n",
    "\n",
    "    def validation_epoch_end(self, outputs):\n",
    "        val_loss_mean = torch.stack([x['val_loss'] for x in outputs]).mean()\n",
    "        logging.info(f'VAL_LOSS:{val_loss_mean}')\n",
    "        return {'val_loss': val_loss_mean}\n",
    "\n"
   ]
  },
  {
   "cell_type": "code",
   "execution_count": null,
   "metadata": {},
   "outputs": [],
   "source": [
    "model = Resnet34(\n",
    "    pretrained=True,\n",
    "    DEVICE = \"cuda\",\n",
    "    CUDA_VISIBILE_DEVICES=0,\n",
    "    IMG_HEIGHT=137,\n",
    "    IMG_WIDTH=236,\n",
    "    EPOCHS=20,\n",
    "    TRAIN_BATCH_SIZE=256,\n",
    "    TEST_BATCH_SIZE=64,\n",
    "    MODEL_MEAN=(0.485, 0.456, 0.406),\n",
    "    MODEL_STD=(0.229, 0.224, 0.225),\n",
    "    TRAINING_FOLDS=(0, 1, 2, 3),\n",
    "    VALIDATION_FOLDS=(4, ),\n",
    "    BASE_MODEL='bengali'\n",
    ")\n",
    "# model.load_state_dict(torch.load('bengali_fold_4.bin'))\n"
   ]
  },
  {
   "cell_type": "code",
   "execution_count": null,
   "metadata": {},
   "outputs": [],
   "source": [
    "comet_logger = CometLogger(\n",
    "    api_key='rjFRslN5SxsTdEQOqr1RySaYl',\n",
    "    experiment_key='45c1eca4bb934a9e8630841eb066182c',\n",
    "    experiment_name='Bengali'\n",
    ")"
   ]
  },
  {
   "cell_type": "code",
   "execution_count": 88,
   "metadata": {},
   "outputs": [],
   "source": [
    "trainer = pl.Trainer(\n",
    "    early_stop_callback=True, \n",
    "    gpus=1,\n",
    "#     logger=comet_logger\n",
    "    )"
   ]
  },
  {
   "cell_type": "code",
   "execution_count": null,
   "metadata": {},
   "outputs": [
    {
     "data": {
      "application/vnd.jupyter.widget-view+json": {
       "model_id": "8113ffcfec384f7aa3d3a92227d6196a",
       "version_major": 2,
       "version_minor": 0
      },
      "text/plain": [
       "HBox(children=(IntProgress(value=0, description='Validation sanity check', layout=Layout(flex='2'), max=5, sty…"
      ]
     },
     "metadata": {},
     "output_type": "display_data"
    },
    {
     "name": "stdout",
     "output_type": "stream",
     "text": [
      "\r"
     ]
    },
    {
     "data": {
      "application/vnd.jupyter.widget-view+json": {
       "model_id": "fc1fa4ae0ee143c6a7d0f4c6db1738e8",
       "version_major": 2,
       "version_minor": 0
      },
      "text/plain": [
       "HBox(children=(IntProgress(value=1, bar_style='info', layout=Layout(flex='2'), max=1), HTML(value='')), layout…"
      ]
     },
     "metadata": {},
     "output_type": "display_data"
    },
    {
     "data": {
      "application/vnd.jupyter.widget-view+json": {
       "model_id": "ab94a1d6cc2c45db95b2049ab64154ae",
       "version_major": 2,
       "version_minor": 0
      },
      "text/plain": [
       "HBox(children=(IntProgress(value=0, description='Validating', layout=Layout(flex='2'), max=628, style=Progress…"
      ]
     },
     "metadata": {},
     "output_type": "display_data"
    },
    {
     "data": {
      "application/vnd.jupyter.widget-view+json": {
       "model_id": "d603b10a21204ff68891230ea6d02ee4",
       "version_major": 2,
       "version_minor": 0
      },
      "text/plain": [
       "HBox(children=(IntProgress(value=0, description='Validating', layout=Layout(flex='2'), max=628, style=Progress…"
      ]
     },
     "metadata": {},
     "output_type": "display_data"
    },
    {
     "data": {
      "application/vnd.jupyter.widget-view+json": {
       "model_id": "647379083b8747d7acec0dd74d091812",
       "version_major": 2,
       "version_minor": 0
      },
      "text/plain": [
       "HBox(children=(IntProgress(value=0, description='Validating', layout=Layout(flex='2'), max=628, style=Progress…"
      ]
     },
     "metadata": {},
     "output_type": "display_data"
    },
    {
     "data": {
      "application/vnd.jupyter.widget-view+json": {
       "model_id": "d0e5427fd3d84ac59c904325f47fc828",
       "version_major": 2,
       "version_minor": 0
      },
      "text/plain": [
       "HBox(children=(IntProgress(value=0, description='Validating', layout=Layout(flex='2'), max=628, style=Progress…"
      ]
     },
     "metadata": {},
     "output_type": "display_data"
    }
   ],
   "source": [
    "trainer.fit(model)"
   ]
  },
  {
   "cell_type": "code",
   "execution_count": null,
   "metadata": {},
   "outputs": [],
   "source": [
    "client.stop_notebook_instance(NotebookInstanceName = instance_name)"
   ]
  },
  {
   "cell_type": "code",
   "execution_count": 4,
   "metadata": {},
   "outputs": [],
   "source": [
    "import torch\n",
    "model = torch.load('lightning_logs/version_1/checkpoints/epoch=7.ckpt')"
   ]
  },
  {
   "cell_type": "code",
   "execution_count": null,
   "metadata": {},
   "outputs": [],
   "source": [
    "model = Resnet34.load_from_checkpoint('lightning_logs/version_1/checkpoints/epoch=7.ckpt')"
   ]
  },
  {
   "cell_type": "code",
   "execution_count": 13,
   "metadata": {},
   "outputs": [
    {
     "data": {
      "text/plain": [
       "dict_keys(['epoch', 'global_step', 'checkpoint_callback_best', 'early_stop_callback_wait', 'early_stop_callback_patience', 'optimizer_states', 'lr_schedulers', 'state_dict', 'hparams', 'hparams_type'])"
      ]
     },
     "execution_count": 13,
     "metadata": {},
     "output_type": "execute_result"
    }
   ],
   "source": [
    "model.keys()"
   ]
  },
  {
   "cell_type": "code",
   "execution_count": null,
   "metadata": {},
   "outputs": [],
   "source": []
  }
 ],
 "metadata": {
  "kernelspec": {
   "display_name": "conda_pytorch_p36",
   "language": "python",
   "name": "conda_pytorch_p36"
  },
  "language_info": {
   "codemirror_mode": {
    "name": "ipython",
    "version": 3
   },
   "file_extension": ".py",
   "mimetype": "text/x-python",
   "name": "python",
   "nbconvert_exporter": "python",
   "pygments_lexer": "ipython3",
   "version": "3.6.5"
  }
 },
 "nbformat": 4,
 "nbformat_minor": 4
}
